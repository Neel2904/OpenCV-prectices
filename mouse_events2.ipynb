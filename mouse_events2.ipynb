{
 "cells": [
  {
   "cell_type": "code",
   "execution_count": 1,
   "metadata": {},
   "outputs": [],
   "source": [
    "import numpy as np\n",
    "import cv2"
   ]
  },
  {
   "cell_type": "markdown",
   "metadata": {},
   "source": [
    "### Connecting points using line\n",
    "\n",
    "You have to click on image to create point and join it to second last point with line."
   ]
  },
  {
   "cell_type": "code",
   "execution_count": 5,
   "metadata": {},
   "outputs": [],
   "source": [
    "def click_event(event, x, y, flags, param):\n",
    "    font = cv2.FONT_HERSHEY_SIMPLEX\n",
    "    \n",
    "    if event == cv2.EVENT_LBUTTONDOWN:\n",
    "        cv2.circle(img, (x,y), 3, (255,255,255), -1)\n",
    "        points.append((x,y))\n",
    "        \n",
    "        if len(points) >= 2:\n",
    "            cv2.line(img, points[-1], points[-2], (255,255,255))\n",
    "        cv2.imshow('image',img)"
   ]
  },
  {
   "cell_type": "code",
   "execution_count": 6,
   "metadata": {},
   "outputs": [],
   "source": [
    "# img = cv2.imread('opencv.jpg',1)\n",
    "img = np.zeros([256,256,3], np.uint8)\n",
    "cv2.imshow('image',img)\n",
    "\n",
    "# setting callback to our defined function\n",
    "points = []\n",
    "cv2.setMouseCallback('image', click_event)\n",
    "\n",
    "cv2.waitKey(0)\n",
    "cv2.destroyAllWindows()\n"
   ]
  },
  {
   "cell_type": "markdown",
   "metadata": {},
   "source": [
    "### For showing color of pixel in another window\n",
    "\n",
    "click in image window to open new color window of clicked pixel"
   ]
  },
  {
   "cell_type": "code",
   "execution_count": 7,
   "metadata": {},
   "outputs": [],
   "source": [
    "def click_event(event, x, y, flags, param):\n",
    "    font = cv2.FONT_HERSHEY_SIMPLEX\n",
    "    \n",
    "    if event == cv2.EVENT_LBUTTONDOWN:\n",
    "        blue = img[x, y, 0]\n",
    "        green = img[x, y, 1]\n",
    "        red = img[x, y, 2]\n",
    "        \n",
    "        cv2.circle(img, (x,y), 3, (0,0,255), -1)\n",
    "        colorimage = np.zeros((512,512,3), np.uint8)\n",
    "        colorimage[:] = [blue, green ,red]\n",
    "        \n",
    "        cv2.imshow('New_image',colorimage)"
   ]
  },
  {
   "cell_type": "code",
   "execution_count": 8,
   "metadata": {},
   "outputs": [],
   "source": [
    "img = cv2.imread('opencv.jpg')\n",
    "cv2.imshow('image', img)\n",
    "\n",
    "cv2.setMouseCallback('image', click_event)\n",
    "\n",
    "cv2.waitKey(0)\n",
    "cv2.destroyAllWindows()\n"
   ]
  },
  {
   "cell_type": "code",
   "execution_count": null,
   "metadata": {},
   "outputs": [],
   "source": []
  }
 ],
 "metadata": {
  "kernelspec": {
   "display_name": "Python 3",
   "language": "python",
   "name": "python3"
  },
  "language_info": {
   "codemirror_mode": {
    "name": "ipython",
    "version": 3
   },
   "file_extension": ".py",
   "mimetype": "text/x-python",
   "name": "python",
   "nbconvert_exporter": "python",
   "pygments_lexer": "ipython3",
   "version": "3.8.3"
  }
 },
 "nbformat": 4,
 "nbformat_minor": 4
}

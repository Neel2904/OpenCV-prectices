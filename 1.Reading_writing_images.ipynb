{
 "cells": [
  {
   "cell_type": "code",
   "execution_count": 2,
   "metadata": {},
   "outputs": [],
   "source": [
    "import cv2"
   ]
  },
  {
   "cell_type": "code",
   "execution_count": 3,
   "metadata": {},
   "outputs": [
    {
     "name": "stdout",
     "output_type": "stream",
     "text": [
      "[[[254 254 254]\n",
      "  [254 254 254]\n",
      "  [254 254 254]\n",
      "  ...\n",
      "  [254 254 254]\n",
      "  [254 254 254]\n",
      "  [254 254 254]]\n",
      "\n",
      " [[253 253 253]\n",
      "  [253 253 253]\n",
      "  [253 253 253]\n",
      "  ...\n",
      "  [253 253 253]\n",
      "  [253 253 253]\n",
      "  [253 253 253]]\n",
      "\n",
      " [[252 252 252]\n",
      "  [252 252 252]\n",
      "  [252 252 252]\n",
      "  ...\n",
      "  [252 252 252]\n",
      "  [252 252 252]\n",
      "  [252 252 252]]\n",
      "\n",
      " ...\n",
      "\n",
      " [[253 253 253]\n",
      "  [253 253 253]\n",
      "  [253 253 253]\n",
      "  ...\n",
      "  [253 253 253]\n",
      "  [253 253 253]\n",
      "  [253 253 253]]\n",
      "\n",
      " [[253 253 253]\n",
      "  [253 253 253]\n",
      "  [253 253 253]\n",
      "  ...\n",
      "  [253 253 253]\n",
      "  [253 253 253]\n",
      "  [253 253 253]]\n",
      "\n",
      " [[253 253 253]\n",
      "  [253 253 253]\n",
      "  [253 253 253]\n",
      "  ...\n",
      "  [253 253 253]\n",
      "  [253 253 253]\n",
      "  [253 253 253]]]\n",
      "[[254 254 254 ... 254 254 254]\n",
      " [253 253 253 ... 253 253 253]\n",
      " [252 252 252 ... 252 252 252]\n",
      " ...\n",
      " [253 253 253 ... 253 253 253]\n",
      " [253 253 253 ... 253 253 253]\n",
      " [253 253 253 ... 253 253 253]]\n"
     ]
    }
   ],
   "source": [
    "# Second parameter 1 for colored image\n",
    "img1 = cv2.imread('opencv.jpg', 1)\n",
    "print(img1)\n",
    "\n",
    "# Second parameter 0 for gray image\n",
    "img2 = cv2.imread('opencv.jpg', 0)\n",
    "print(img2)"
   ]
  },
  {
   "cell_type": "markdown",
   "metadata": {},
   "source": [
    "### Window will shown for 5 seconds"
   ]
  },
  {
   "cell_type": "code",
   "execution_count": 4,
   "metadata": {},
   "outputs": [],
   "source": [
    "cv2.imshow('image',img1)\n",
    "cv2.waitKey(5000)\n",
    "cv2.destroyAllWindows()"
   ]
  },
  {
   "cell_type": "code",
   "execution_count": 5,
   "metadata": {},
   "outputs": [],
   "source": [
    "cv2.imshow('image',img2)\n",
    "cv2.waitKey(5000)\n",
    "cv2.destroyAllWindows()"
   ]
  },
  {
   "cell_type": "markdown",
   "metadata": {},
   "source": [
    "### For saving image"
   ]
  },
  {
   "cell_type": "code",
   "execution_count": 10,
   "metadata": {},
   "outputs": [
    {
     "data": {
      "text/plain": [
       "True"
      ]
     },
     "execution_count": 10,
     "metadata": {},
     "output_type": "execute_result"
    }
   ],
   "source": [
    "cv2.imwrite('cv_img.png',img2)"
   ]
  },
  {
   "cell_type": "markdown",
   "metadata": {},
   "source": [
    "### Exit on esc-key press and save image on s press"
   ]
  },
  {
   "cell_type": "code",
   "execution_count": 12,
   "metadata": {},
   "outputs": [],
   "source": [
    "cv2.imshow('image',img1)\n",
    "k = cv2.waitKey(0) & 0xFF\n",
    "\n",
    "if k == 27:\n",
    "    cv2.destroyAllWindows()\n",
    "elif k == ord('s'):\n",
    "    cv2.imwrite('cv_image.png',img1)\n",
    "    cv2.destroyAllWindows()"
   ]
  },
  {
   "cell_type": "code",
   "execution_count": null,
   "metadata": {},
   "outputs": [],
   "source": []
  }
 ],
 "metadata": {
  "kernelspec": {
   "display_name": "Python 3",
   "language": "python",
   "name": "python3"
  },
  "language_info": {
   "codemirror_mode": {
    "name": "ipython",
    "version": 3
   },
   "file_extension": ".py",
   "mimetype": "text/x-python",
   "name": "python",
   "nbconvert_exporter": "python",
   "pygments_lexer": "ipython3",
   "version": "3.8.3"
  }
 },
 "nbformat": 4,
 "nbformat_minor": 4
}
